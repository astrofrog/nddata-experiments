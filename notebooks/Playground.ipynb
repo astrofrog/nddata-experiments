{
 "cells": [
  {
   "cell_type": "code",
   "execution_count": 1,
   "metadata": {},
   "outputs": [],
   "source": [
    "from functools import wraps\n",
    "import inspect\n",
    "import numpy as np\n",
    "\n",
    "\n",
    "def view_as_nddata(expected_type):\n",
    "    def decorator(func):\n",
    "        @wraps(func)\n",
    "        def func_wrapper(*args, **kwargs):\n",
    "            # Introspect the function arguments\n",
    "#             fargs = inspect.getfullargspec(func)\n",
    "            \n",
    "            # Get the expected data argument\n",
    "            input_data = args[0]\n",
    "            \n",
    "            new_input_data = expected_type.__from_nddata__(input_data)\n",
    "            \n",
    "            output_data = func(new_input_data, *args[1:], **kwargs)\n",
    "            \n",
    "            new_output_data = input_data.__from_nddata__(output_data, input_data)\n",
    "\n",
    "            return new_output_data\n",
    "        return func_wrapper\n",
    "    return decorator"
   ]
  },
  {
   "cell_type": "markdown",
   "metadata": {},
   "source": [
    "- Decorator: wraps the individual function in the package and is passed the class representing the returned type of the function.\n",
    "- Before the function is called, the input data object is converted to the type specified in the decorator by calling the `__from_nddata__` method on the type specifed in the decorator.\n",
    "- After the function has worked over the casted data object, `__from_nddata__(new_data_object, original_data_object=None)` is called on original input data object.\n"
   ]
  },
  {
   "cell_type": "code",
   "execution_count": 10,
   "metadata": {},
   "outputs": [],
   "source": [
    "from specutils import Spectrum1D\n",
    "from ndcube import NDCube\n",
    "\n",
    "\n",
    "# Might be able to use the support_nddata decorator on the initializer of Spectrum1D\n",
    "\n",
    "class NewSpectrum1D(Spectrum1D):\n",
    "    @classmethod\n",
    "    def __from_nddata__(cls, new_data_object, original_data_object=None):\n",
    "        return cls(data=new_data_object.data, \n",
    "                   unit=new_data_object.unit, \n",
    "                   wcs=new_data_object.wcs, \n",
    "                   meta=new_data_object.meta,\n",
    "                   uncertainty=new_data_object.uncertainty)\n",
    "    \n",
    "    \n",
    "class NewNDCube(NDCube):\n",
    "    @classmethod\n",
    "    def __from_nddata__(cls, new_data_object, original_data_object=None):\n",
    "        new_ndcube = cls(new_data_object,\n",
    "                         wcs=new_data_object.wcs._wcs,\n",
    "                         extra_coords=original_data_object.extra_coords)\n",
    "        return new_ndcube"
   ]
  },
  {
   "cell_type": "code",
   "execution_count": 11,
   "metadata": {},
   "outputs": [],
   "source": [
    "@view_as_nddata(NewSpectrum1D)\n",
    "def test_function(spec):\n",
    "    return Spectrum1D(flux=np.ones(100) * u.Jy, spectral_axis=spec.spectral_axis)"
   ]
  },
  {
   "cell_type": "code",
   "execution_count": 12,
   "metadata": {},
   "outputs": [
    {
     "name": "stdout",
     "output_type": "stream",
     "text": [
      "<class 'gwcs.wcs.WCS'>\n"
     ]
    }
   ],
   "source": [
    "import gwcs\n",
    "import astropy.units as u\n",
    "\n",
    "spec = Spectrum1D(flux=np.random.sample(100) * u.Jy, spectral_axis=np.arange(100) * u.AA)\n",
    "wcs = spec.wcs._wcs\n",
    "print(type(wcs))\n",
    "\n",
    "cube = NewNDCube(data=np.random.sample(100), wcs=wcs)"
   ]
  },
  {
   "cell_type": "code",
   "execution_count": 14,
   "metadata": {},
   "outputs": [
    {
     "name": "stderr",
     "output_type": "stream",
     "text": [
      "INFO:astropy:overwriting NDData's current wcs with specified wcs.\n"
     ]
    },
    {
     "name": "stdout",
     "output_type": "stream",
     "text": [
      "INFO: overwriting NDData's current wcs with specified wcs. [astropy.nddata.nddata]\n"
     ]
    },
    {
     "data": {
      "text/plain": [
       "array([1., 1., 1., 1., 1., 1., 1., 1., 1., 1., 1., 1., 1., 1., 1., 1., 1.,\n",
       "       1., 1., 1., 1., 1., 1., 1., 1., 1., 1., 1., 1., 1., 1., 1., 1., 1.,\n",
       "       1., 1., 1., 1., 1., 1., 1., 1., 1., 1., 1., 1., 1., 1., 1., 1., 1.,\n",
       "       1., 1., 1., 1., 1., 1., 1., 1., 1., 1., 1., 1., 1., 1., 1., 1., 1.,\n",
       "       1., 1., 1., 1., 1., 1., 1., 1., 1., 1., 1., 1., 1., 1., 1., 1., 1.,\n",
       "       1., 1., 1., 1., 1., 1., 1., 1., 1., 1., 1., 1., 1., 1., 1.])"
      ]
     },
     "execution_count": 14,
     "metadata": {},
     "output_type": "execute_result"
    }
   ],
   "source": [
    "test_function(cube).data"
   ]
  },
  {
   "cell_type": "code",
   "execution_count": null,
   "metadata": {},
   "outputs": [],
   "source": [
    "%debug"
   ]
  },
  {
   "cell_type": "code",
   "execution_count": null,
   "metadata": {},
   "outputs": [],
   "source": []
  }
 ],
 "metadata": {
  "kernelspec": {
   "display_name": "Python 3",
   "language": "python",
   "name": "python3"
  },
  "language_info": {
   "codemirror_mode": {
    "name": "ipython",
    "version": 3
   },
   "file_extension": ".py",
   "mimetype": "text/x-python",
   "name": "python",
   "nbconvert_exporter": "python",
   "pygments_lexer": "ipython3",
   "version": "3.7.5"
  }
 },
 "nbformat": 4,
 "nbformat_minor": 4
}
